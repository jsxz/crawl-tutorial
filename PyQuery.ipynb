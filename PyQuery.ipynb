{
 "cells": [
  {
   "cell_type": "code",
   "execution_count": 10,
   "metadata": {},
   "outputs": [
    {
     "name": "stdout",
     "output_type": "stream",
     "text": [
      "<li class=\"item-1\">first</li>\n",
      "         <li class=\"item-2\"><a href=\"link2.html\"><span class=\"blod\">second</span></a></li>\n",
      "         <li class=\"item-1\">first</li>\n",
      "    \n"
     ]
    }
   ],
   "source": [
    "html='''\n",
    "<div id='container'>\n",
    "    <ul class='list'>\n",
    "       <li class=\"item-1\">first</li>\n",
    "         <li class=\"item-2\"><a href=\"link2.html\"><span class=\"blod\">second</span></a></li>\n",
    "         <li class=\"item-1\">first</li>\n",
    "    </ul>\n",
    "</div>\n",
    "'''\n",
    "### 字符串初始化\n",
    "from pyquery import PyQuery as pq\n",
    "doc=pq(html)\n",
    "print(doc('li'))"
   ]
  },
  {
   "cell_type": "code",
   "execution_count": 11,
   "metadata": {},
   "outputs": [
    {
     "name": "stdout",
     "output_type": "stream",
     "text": [
      "<head><meta http-equiv=\"content-type\" content=\"text/html;charset=utf-8\"/><meta http-equiv=\"X-UA-Compatible\" content=\"IE=Edge\"/><meta content=\"always\" name=\"referrer\"/><link rel=\"stylesheet\" type=\"text/css\" href=\"http://s1.bdstatic.com/r/www/cache/bdorz/baidu.min.css\"/><title>ç¾åº¦ä¸ä¸ï¼ä½ å°±ç¥é</title></head> \n"
     ]
    }
   ],
   "source": [
    "### URL初始化\n",
    "doc=pq(url='http://www.baidu.com')\n",
    "print(doc('head'))"
   ]
  },
  {
   "cell_type": "code",
   "execution_count": 16,
   "metadata": {},
   "outputs": [
    {
     "name": "stdout",
     "output_type": "stream",
     "text": [
      "<li class=\"item-1\">first</li>\n",
      "         <li class=\"item-2\"><a href=\"link2.html\"><span class=\"blod\">second</span></a></li>\n",
      "         <li class=\"item-1\">first</li>\n",
      "    \n"
     ]
    }
   ],
   "source": [
    "### 文件初始化\n",
    "doc=pq(filename='test.html')\n",
    "print(doc('li'))"
   ]
  },
  {
   "cell_type": "code",
   "execution_count": 17,
   "metadata": {},
   "outputs": [
    {
     "name": "stdout",
     "output_type": "stream",
     "text": [
      "<li class=\"item-1\">first</li>\n",
      "         <li class=\"item-2\"><a href=\"link2.html\"><span class=\"blod\">second</span></a></li>\n",
      "         <li class=\"item-1\">first</li>\n",
      "    \n"
     ]
    }
   ],
   "source": [
    "### 基本CSS选择器\n",
    "print(doc('#container .list li'))"
   ]
  },
  {
   "cell_type": "code",
   "execution_count": 18,
   "metadata": {},
   "outputs": [
    {
     "name": "stdout",
     "output_type": "stream",
     "text": [
      "<class 'pyquery.pyquery.PyQuery'>\n",
      "<li class=\"item-1\">first</li>\n",
      "         <li class=\"item-2\"><a href=\"link2.html\"><span class=\"blod\">second</span></a></li>\n",
      "         <li class=\"item-1\">first</li>\n",
      "    \n"
     ]
    }
   ],
   "source": [
    "### 查找元素 子元素\n",
    "items =doc('.list')\n",
    "print(type(items))\n",
    "lis = items.find('li')\n",
    "print(lis)"
   ]
  },
  {
   "cell_type": "code",
   "execution_count": 19,
   "metadata": {},
   "outputs": [
    {
     "name": "stdout",
     "output_type": "stream",
     "text": [
      "<div id=\"container\">\n",
      "    <ul class=\"list\">\n",
      "       <li class=\"item-1\">first</li>\n",
      "         <li class=\"item-2\"><a href=\"link2.html\"><span class=\"blod\">second</span></a></li>\n",
      "         <li class=\"item-1\">first</li>\n",
      "    </ul>\n",
      "</div>\n",
      "\n"
     ]
    }
   ],
   "source": [
    "### 父元素 parent parents\n",
    "print(items.parent())"
   ]
  },
  {
   "cell_type": "code",
   "execution_count": 20,
   "metadata": {},
   "outputs": [
    {
     "name": "stdout",
     "output_type": "stream",
     "text": [
      "<class 'generator'>\n",
      "<li class=\"item-1\">first</li>\n",
      "         \n",
      "<li class=\"item-2\"><a href=\"link2.html\"><span class=\"blod\">second</span></a></li>\n",
      "         \n",
      "<li class=\"item-1\">first</li>\n",
      "    \n"
     ]
    }
   ],
   "source": [
    "### 兄弟元素 siblings()\n",
    "### 遍历\n",
    "lis = doc('li').items()\n",
    "print(type(lis))\n",
    "for li in lis:\n",
    "    print(li)"
   ]
  },
  {
   "cell_type": "code",
   "execution_count": 21,
   "metadata": {},
   "outputs": [],
   "source": [
    "### attr() text() html()"
   ]
  },
  {
   "cell_type": "code",
   "execution_count": 22,
   "metadata": {},
   "outputs": [],
   "source": [
    "### dom 操作\n",
    "### removeClass() addClass() attr('name','link') css('font-size','14px') remove()"
   ]
  },
  {
   "cell_type": "code",
   "execution_count": null,
   "metadata": {},
   "outputs": [],
   "source": [
    "### 伪类选择器\n",
    "### li:fist_child last_child nth_child(2) gt(2) nth-child(2n) contains(second)"
   ]
  }
 ],
 "metadata": {
  "kernelspec": {
   "display_name": "Python 3",
   "language": "python",
   "name": "python3"
  },
  "language_info": {
   "codemirror_mode": {
    "name": "ipython",
    "version": 3
   },
   "file_extension": ".py",
   "mimetype": "text/x-python",
   "name": "python",
   "nbconvert_exporter": "python",
   "pygments_lexer": "ipython3",
   "version": "3.7.1"
  }
 },
 "nbformat": 4,
 "nbformat_minor": 2
}
