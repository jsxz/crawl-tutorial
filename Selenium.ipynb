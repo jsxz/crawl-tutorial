{
 "cells": [
  {
   "cell_type": "code",
   "execution_count": 6,
   "metadata": {},
   "outputs": [],
   "source": [
    "# 基本使用\n",
    "from selenium import webdriver\n",
    "from selenium.webdriver.common.by import By\n",
    "from selenium.webdriver.common.keys import Keys\n",
    "from selenium.webdriver.support import expected_conditions as EC\n",
    "from selenium.webdriver.support.wait import WebDriverWait\n",
    "browser =webdriver.Chrome()\n",
    "try:\n",
    "    browser.get('https://www.baidu.com')\n",
    "    input=browser.find_element_by_id('kw')\n",
    "    input.send_keys('Python')\n",
    "    input.send_keys(Keys.ENTER)\n",
    "    wait=WebDriverWait(browser,11)\n",
    "    wait.until(EC.presence_of_element_located((By.ID,'content_left')))\n",
    "#     print(browser.current_url)\n",
    "#     print(browser.get_cookies())\n",
    "#     print(browser.page_source)\n",
    "finally:\n",
    "    browser.close()"
   ]
  },
  {
   "cell_type": "code",
   "execution_count": 8,
   "metadata": {},
   "outputs": [],
   "source": [
    "# page_source\n",
    "browser =webdriver.Chrome()\n",
    "browser.get('https://www.taobao.com')\n",
    "# print(browser.page_source)\n",
    "browser.close()"
   ]
  },
  {
   "cell_type": "code",
   "execution_count": 9,
   "metadata": {},
   "outputs": [],
   "source": [
    "# 查找元素 find_eleemnt_by_id,find_element_by_css_selector,find_element_by_xpath\n",
    "# find_eleemnt_by_name,find_eleemnt_by_link_text,find_eleemnt_by_partial_link_text,\n",
    "# find_eleemnt_by_tag_name,find_eleemnt_by_class_name"
   ]
  },
  {
   "cell_type": "code",
   "execution_count": 14,
   "metadata": {},
   "outputs": [],
   "source": [
    "# 交互操作 send_keys\n",
    "# 交互动作\n",
    "from selenium import webdriver\n",
    "from selenium.webdriver import ActionChains\n",
    "browser =webdriver.Chrome()\n",
    "url='http://www.runoob.com/try/try.php?filename=jqueryui-api-droppable'\n",
    "browser.get(url)\n",
    "# switch_to.frame \n",
    "browser.switch_to.frame('iframeResult')\n",
    "source=browser.find_element_by_css_selector('#draggable')\n",
    "target=browser.find_element_by_css_selector('#droppable')\n",
    "actions = ActionChains(browser)\n",
    "actions.drag_and_drop(source,target)\n",
    "actions.perform()\n",
    "# browser.close()"
   ]
  },
  {
   "cell_type": "code",
   "execution_count": 15,
   "metadata": {},
   "outputs": [],
   "source": [
    "# 执行javascript\n",
    "browser =webdriver.Chrome()\n",
    "browser.get('https://www.zhihu.com/explore')\n",
    "browser.execute_script('window.scrollTo(0,document.body.scrollHeight)')\n",
    "browser.execute_script('alert(\"to bottom\")')"
   ]
  },
  {
   "cell_type": "code",
   "execution_count": 22,
   "metadata": {},
   "outputs": [
    {
     "name": "stdout",
     "output_type": "stream",
     "text": [
      "zu-top-link-logo\n",
      "提问\n",
      "0.6675183282241133-2 {'x': 842, 'y': 7} button {'height': 32, 'width': 66}\n"
     ]
    }
   ],
   "source": [
    "# 获取属性   get_attribute\n",
    "browser =webdriver.Chrome()\n",
    "browser.get('https://www.zhihu.com/explore')\n",
    "logo = browser.find_element_by_id('zh-top-link-logo')\n",
    "print(logo.get_attribute('class'))\n",
    "# 获取文本   text\n",
    "input=browser.find_element_by_class_name('zu-top-add-question')\n",
    "print(input.text)\n",
    "# id location tag_name size\n",
    "print(input.id,input.location,input.tag_name,input.size)\n",
    "browser.close()"
   ]
  },
  {
   "cell_type": "code",
   "execution_count": 24,
   "metadata": {},
   "outputs": [],
   "source": [
    "#隐式等待 browser.implicitly_wait(11) \n",
    "#显示等待 \n",
    "from selenium.webdriver.support.ui imoprt WebDriverWait\n",
    "from selenium.webdriver.support import expected_conditions as EC\n",
    "from selenium.webdriver.common.by import By\n",
    "wait=WebDriverWait(browser,11)\n",
    "input=wait.until(EC.presence_of_element_located((By.ID,'q')))"
   ]
  },
  {
   "cell_type": "code",
   "execution_count": null,
   "metadata": {},
   "outputs": [],
   "source": [
    "#前进 后退\n",
    "back() forward()"
   ]
  },
  {
   "cell_type": "code",
   "execution_count": null,
   "metadata": {},
   "outputs": [],
   "source": [
    "#Cookies\n",
    "get_cookies()\n",
    "add_cookie('name':'name','domain':'www.zhihu.com','value':'anjun')\n",
    "delete_all_cookies()\n"
   ]
  },
  {
   "cell_type": "code",
   "execution_count": null,
   "metadata": {},
   "outputs": [],
   "source": [
    "#选项卡管理\n",
    "browser.execute_script('window.open()')\n",
    "browser.switch_to_window(browser.window_handles[1])"
   ]
  },
  {
   "cell_type": "code",
   "execution_count": null,
   "metadata": {},
   "outputs": [],
   "source": [
    "# 异常处理\n",
    "from selenium.common.exceptions import TimeoutException,NoSushElementException"
   ]
  }
 ],
 "metadata": {
  "kernelspec": {
   "display_name": "Python 3",
   "language": "python",
   "name": "python3"
  },
  "language_info": {
   "codemirror_mode": {
    "name": "ipython",
    "version": 3
   },
   "file_extension": ".py",
   "mimetype": "text/x-python",
   "name": "python",
   "nbconvert_exporter": "python",
   "pygments_lexer": "ipython3",
   "version": "3.7.1"
  }
 },
 "nbformat": 4,
 "nbformat_minor": 2
}
