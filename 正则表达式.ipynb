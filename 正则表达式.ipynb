{
 "cells": [
  {
   "cell_type": "code",
   "execution_count": 6,
   "metadata": {},
   "outputs": [
    {
     "name": "stdout",
     "output_type": "stream",
     "text": [
      "24\n",
      "<re.Match object; span=(0, 6), match='hello '>\n"
     ]
    }
   ],
   "source": [
    "# re.match 从字符串起始位置匹配一个模式\n",
    "import re\n",
    "s='hello 123 4567 anjun.vip'\n",
    "print(len(s))\n",
    "res = re.match('^hello\\s',s)\n",
    "print(res)"
   ]
  },
  {
   "cell_type": "code",
   "execution_count": 7,
   "metadata": {},
   "outputs": [],
   "source": [
    "# re.search  扫描整个字符串并返回第一个成功的匹配,相比match优先使用search "
   ]
  },
  {
   "cell_type": "code",
   "execution_count": 8,
   "metadata": {},
   "outputs": [],
   "source": [
    "# re.findall 返回全部匹配的子串"
   ]
  },
  {
   "cell_type": "code",
   "execution_count": 9,
   "metadata": {},
   "outputs": [],
   "source": [
    "# re.sub 替换字符串中每个匹配的子串后返回替换的字符串"
   ]
  },
  {
   "cell_type": "code",
   "execution_count": 10,
   "metadata": {},
   "outputs": [],
   "source": [
    "# re.compile 编译成正则表达式对象"
   ]
  },
  {
   "cell_type": "code",
   "execution_count": null,
   "metadata": {},
   "outputs": [],
   "source": [
    "# 实战练习\n",
    "import requests\n",
    "import re\n",
    "content= requests.get('https://book.douban.com/').text\n",
    "print(content)\n",
    "pat=re.compile('<li.*?cover.*?href=\"(.*?)\".*?title=\"(.*?)\".*?more-meta.*?author\">(.*?)</span>.*?year>(.*?)</span>.*?</li>',re.S)\n",
    "results= re.findall(pat,content)\n",
    "for result in reuslts:\n",
    "    url,name,author,date=result\n",
    "    author=re.sub('\\s','',author)\n",
    "    date=re.sub('\\s',date)\n",
    "    print(url,name,author,date)"
   ]
  },
  {
   "cell_type": "code",
   "execution_count": null,
   "metadata": {},
   "outputs": [],
   "source": []
  }
 ],
 "metadata": {
  "kernelspec": {
   "display_name": "Python 3",
   "language": "python",
   "name": "python3"
  },
  "language_info": {
   "codemirror_mode": {
    "name": "ipython",
    "version": 3
   },
   "file_extension": ".py",
   "mimetype": "text/x-python",
   "name": "python",
   "nbconvert_exporter": "python",
   "pygments_lexer": "ipython3",
   "version": "3.7.1"
  }
 },
 "nbformat": 4,
 "nbformat_minor": 2
}
